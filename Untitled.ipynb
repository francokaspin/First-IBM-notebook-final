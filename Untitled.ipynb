{
 "cells": [
  {
   "cell_type": "markdown",
   "id": "c24b1b5e-c338-418d-a485-5c79899d052a",
   "metadata": {},
   "source": [
    "# My Jupyter Notebook on IBM Watson Studio"
   ]
  },
  {
   "cell_type": "markdown",
   "id": "3e2e7aa5-b716-4905-bbe8-78261409f458",
   "metadata": {},
   "source": [
    "**FRANCO KASPIN**\n",
    "I am a student of Data Science on the university of Buenos Aires, I would like to work on the analytics area\n"
   ]
  },
  {
   "cell_type": "markdown",
   "id": "caddd5fc-40a1-422a-b224-4686565ea401",
   "metadata": {},
   "source": [
    "*I am interested in Data Science because I am a passionate of the statisitcs and I think that the Data science is a balance between Statistic and the future*\n"
   ]
  },
  {
   "cell_type": "markdown",
   "id": "16d5a0b2-f844-4614-a93b-7e99614fdd55",
   "metadata": {},
   "source": [
    "### On the next cell I am going to make a code that can be executed, I will make a math operation"
   ]
  },
  {
   "cell_type": "code",
   "execution_count": 3,
   "id": "168865fa-318b-40e0-837a-48f7c25f5250",
   "metadata": {},
   "outputs": [
    {
     "name": "stdout",
     "output_type": "stream",
     "text": [
      "3\n"
     ]
    }
   ],
   "source": [
    "one = 1\n",
    "two = 2\n",
    "print( one + two)\n"
   ]
  },
  {
   "cell_type": "markdown",
   "id": "af20bafd-df1f-4607-86fb-908e63a2485e",
   "metadata": {},
   "source": [
    "### Table\n",
    "| NAME  | AGE | COUNTRY |\n",
    "| ----  | --- | --------|\n",
    "| Jorge | 21  | Colombia|\n",
    "| Nahuel| 22  | Surinam |\n",
    "\n",
    "Horizontal line\n",
    "***\n",
    "\n",
    "link\n",
    "\n",
    "<a https://openexpoeurope.com/wp-content/uploads/2018/12/api-321x250.png a>\n",
    "\n"
   ]
  }
 ],
 "metadata": {
  "kernelspec": {
   "display_name": "Python",
   "language": "python",
   "name": "conda-env-python-py"
  },
  "language_info": {
   "codemirror_mode": {
    "name": "ipython",
    "version": 3
   },
   "file_extension": ".py",
   "mimetype": "text/x-python",
   "name": "python",
   "nbconvert_exporter": "python",
   "pygments_lexer": "ipython3",
   "version": "3.7.12"
  }
 },
 "nbformat": 4,
 "nbformat_minor": 5
}
